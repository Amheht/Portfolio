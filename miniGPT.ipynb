{
  "nbformat": 4,
  "nbformat_minor": 0,
  "metadata": {
    "colab": {
      "provenance": [],
      "gpuType": "T4",
      "authorship_tag": "ABX9TyPR6uFYUNWgVadJ0Us4LscS",
      "include_colab_link": true
    },
    "kernelspec": {
      "name": "python3",
      "display_name": "Python 3"
    },
    "language_info": {
      "name": "python"
    },
    "accelerator": "GPU"
  },
  "cells": [
    {
      "cell_type": "markdown",
      "metadata": {
        "id": "view-in-github",
        "colab_type": "text"
      },
      "source": [
        "<a href=\"https://colab.research.google.com/github/Amheht/Portfolio/blob/main/miniGPT.ipynb\" target=\"_parent\"><img src=\"https://colab.research.google.com/assets/colab-badge.svg\" alt=\"Open In Colab\"/></a>"
      ]
    },
    {
      "cell_type": "code",
      "source": [
        "# LLMini - Minature GPT Model\n",
        "# Setup Environment\n",
        "\n",
        "# Clone the Portfolio repo\n",
        "!git clone https://github.com/Amheht/Portfolio.git\n",
        "\n",
        "# Move into the LLMini project\n",
        "%cd Portfolio/LLMini\n",
        "\n",
        "# Add project path to sys.path so you can import your modules\n",
        "import sys\n",
        "sys.path.append('/content/Portfolio/LLMini')\n",
        "\n",
        "# Install dependencies\n",
        "!pip install tensorflow tokenizers\n",
        "\n",
        "\n"
      ],
      "metadata": {
        "colab": {
          "base_uri": "https://localhost:8080/"
        },
        "collapsed": true,
        "id": "NnimFenduTwl",
        "outputId": "3f145219-c67a-49b0-9f4c-ea1c0c43395a"
      },
      "execution_count": null,
      "outputs": [
        {
          "output_type": "stream",
          "name": "stdout",
          "text": [
            "Cloning into 'Portfolio'...\n",
            "remote: Enumerating objects: 87, done.\u001b[K\n",
            "remote: Counting objects: 100% (87/87), done.\u001b[K\n",
            "remote: Compressing objects: 100% (71/71), done.\u001b[K\n",
            "remote: Total 87 (delta 21), reused 0 (delta 0), pack-reused 0 (from 0)\u001b[K\n",
            "Receiving objects: 100% (87/87), 28.29 KiB | 4.71 MiB/s, done.\n",
            "Resolving deltas: 100% (21/21), done.\n",
            "/content/Portfolio/LLMini/Portfolio/LLMini/Portfolio/LLMini\n"
          ]
        }
      ]
    },
    {
      "cell_type": "code",
      "source": [
        "# Prepare corpus.txt (Skip this step if corpus.txt already exists)\n",
        "\n",
        "import os\n",
        "if not os.path.exists('data/corpus.txt'):\n",
        "    !python scripts/prepare_corpus.py\n",
        "else:\n",
        "    print('corpus.txt already exists')"
      ],
      "metadata": {
        "id": "-yasx8wF_VT1"
      },
      "execution_count": null,
      "outputs": []
    },
    {
      "cell_type": "code",
      "source": [
        "# Train the MiniGPT Model\n",
        "!python training/train.py"
      ],
      "metadata": {
        "id": "WJXSaRyk_ukp"
      },
      "execution_count": null,
      "outputs": []
    },
    {
      "cell_type": "code",
      "source": [
        "# Generate text with trained model.\n",
        "!python inference/generate.py"
      ],
      "metadata": {
        "id": "RmOV1vzO_1Gs"
      },
      "execution_count": null,
      "outputs": []
    }
  ]
}